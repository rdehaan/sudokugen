{
 "cells": [
  {
   "cell_type": "markdown",
   "id": "d4998f1e",
   "metadata": {},
   "source": [
    "## asdf"
   ]
  },
  {
   "cell_type": "code",
   "execution_count": 1,
   "id": "aad59cc0",
   "metadata": {},
   "outputs": [],
   "source": [
    "from twoplayer import make_pdf, construct_instance_from_dict, \\\n",
    "    store_instance_in_db, load_db, select_instance_dict_from_db, log"
   ]
  },
  {
   "cell_type": "code",
   "execution_count": 2,
   "id": "d0a6b4a0",
   "metadata": {},
   "outputs": [],
   "source": [
    "from sudokugen import instances, generate_puzzle, encodings, masks"
   ]
  },
  {
   "cell_type": "code",
   "execution_count": 3,
   "id": "a7e67831",
   "metadata": {},
   "outputs": [],
   "source": [
    "from copy import deepcopy\n",
    "import json\n",
    "import random\n",
    "import textwrap\n",
    "from datetime import datetime"
   ]
  },
  {
   "cell_type": "code",
   "execution_count": 4,
   "id": "ad12bcb9",
   "metadata": {},
   "outputs": [],
   "source": [
    "database = load_db(\"building-blocks-i.json\")\n",
    "\n",
    "db_variants = {\n",
    "    1: [\"1a\"],\n",
    "    2: [\"2a\"],\n",
    "    3: [\"3a\", \"3b\"],\n",
    "    4: [\"4a\", \"4b\", \"4c\"],\n",
    "}"
   ]
  },
  {
   "cell_type": "code",
   "execution_count": 5,
   "id": "dcd18cf7",
   "metadata": {},
   "outputs": [],
   "source": [
    "# # Either manually give a list of puzzle choices:\n",
    "# puzzle_choices = [\n",
    "#     {\n",
    "#         (\"A\", 1): (\"1a\", 3),\n",
    "#         (\"A\", 2): (\"2a\", 3),\n",
    "#         (\"A\", 3): (\"3a\", 3),\n",
    "#         (\"B\", 1): (\"1a\", 4),\n",
    "#         (\"B\", 2): (\"2a\", 4),\n",
    "#         (\"B\", 3): (\"3a\", 4),\n",
    "#     },\n",
    "#     {\n",
    "#         (\"A\", 1): (\"1a\", 3),\n",
    "#         (\"A\", 2): (\"2a\", 3),\n",
    "#         (\"A\", 3): (\"3a\", 3),\n",
    "#         (\"B\", 1): (\"1a\", 4),\n",
    "#         (\"B\", 2): (\"2a\", 4),\n",
    "#         (\"B\", 3): (\"3a\", 4),\n",
    "#     },\n",
    "# ]"
   ]
  },
  {
   "cell_type": "code",
   "execution_count": 6,
   "id": "d2c8d4c8",
   "metadata": {
    "scrolled": true
   },
   "outputs": [],
   "source": [
    "# Or create a randomly generated list of puzzle choices,\n",
    "# using a given level choice per player/puzzle_no\n",
    "level_choice = {\n",
    "    (\"A\", 1): 1,\n",
    "    (\"A\", 2): 2,\n",
    "    (\"A\", 3): 3,\n",
    "    (\"B\", 1): 2,\n",
    "    (\"B\", 2): 3,\n",
    "    (\"B\", 3): 4,\n",
    "}\n",
    "\n",
    "def random_puzzle_choice(level_choice):\n",
    "    puzzle_choice_dict = {}\n",
    "    for player in [\"A\", \"B\"]:\n",
    "        for puzzle_no in [1, 2, 3]:\n",
    "            level = level_choice[(player, puzzle_no)]\n",
    "            variant = random.choice(db_variants[level])\n",
    "            puzzle_id = random.randint(1, len(database[variant]))\n",
    "            puzzle_choice_dict[(player, puzzle_no)] = \\\n",
    "                (variant, puzzle_id)\n",
    "    return puzzle_choice_dict\n",
    "\n",
    "num_random_puzzles = 5\n",
    "\n",
    "puzzle_choices = [\n",
    "    random_puzzle_choice(level_choice)\n",
    "    for _ in range(num_random_puzzles)\n",
    "]"
   ]
  },
  {
   "cell_type": "code",
   "execution_count": 7,
   "id": "bccdf146",
   "metadata": {},
   "outputs": [],
   "source": [
    "def select_puzzle(category, puzzle_id):\n",
    "    return construct_instance_from_dict(\n",
    "        select_instance_dict_from_db(\n",
    "            database,\n",
    "            category,\n",
    "            puzzle_id\n",
    "        )\n",
    "    )"
   ]
  },
  {
   "cell_type": "code",
   "execution_count": 8,
   "id": "1a83d098",
   "metadata": {},
   "outputs": [
    {
     "name": "stdout",
     "output_type": "stream",
     "text": [
      "Creating puzzle 1-1..\n",
      "- using this choice:\n"
     ]
    },
    {
     "data": {
      "text/plain": [
       "{('A', 1): ('1a', 8),\n",
       " ('A', 2): ('2a', 14),\n",
       " ('A', 3): ('3a', 6),\n",
       " ('B', 1): ('2a', 15),\n",
       " ('B', 2): ('3b', 9),\n",
       " ('B', 3): ('4a', 6)}"
      ]
     },
     "metadata": {},
     "output_type": "display_data"
    },
    {
     "name": "stdout",
     "output_type": "stream",
     "text": [
      "1\n",
      "Creating puzzle 1-2..\n",
      "- using this choice:\n"
     ]
    },
    {
     "data": {
      "text/plain": [
       "{('A', 1): ('1a', 10),\n",
       " ('A', 2): ('2a', 24),\n",
       " ('A', 3): ('3b', 6),\n",
       " ('B', 1): ('2a', 20),\n",
       " ('B', 2): ('3a', 6),\n",
       " ('B', 3): ('4a', 3)}"
      ]
     },
     "metadata": {},
     "output_type": "display_data"
    },
    {
     "name": "stdout",
     "output_type": "stream",
     "text": [
      "0\n",
      "Creating puzzle 1-3..\n",
      "- using this choice:\n"
     ]
    },
    {
     "data": {
      "text/plain": [
       "{('A', 1): ('1a', 14),\n",
       " ('A', 2): ('2a', 22),\n",
       " ('A', 3): ('3b', 10),\n",
       " ('B', 1): ('2a', 4),\n",
       " ('B', 2): ('3b', 6),\n",
       " ('B', 3): ('4a', 6)}"
      ]
     },
     "metadata": {},
     "output_type": "display_data"
    },
    {
     "name": "stdout",
     "output_type": "stream",
     "text": [
      "0\n",
      "Creating puzzle 1-4..\n",
      "- using this choice:\n"
     ]
    },
    {
     "data": {
      "text/plain": [
       "{('A', 1): ('1a', 10),\n",
       " ('A', 2): ('2a', 30),\n",
       " ('A', 3): ('3b', 7),\n",
       " ('B', 1): ('2a', 29),\n",
       " ('B', 2): ('3a', 6),\n",
       " ('B', 3): ('4b', 1)}"
      ]
     },
     "metadata": {},
     "output_type": "display_data"
    },
    {
     "name": "stdout",
     "output_type": "stream",
     "text": [
      "1\n",
      "Creating puzzle 1-5..\n",
      "- using this choice:\n"
     ]
    },
    {
     "data": {
      "text/plain": [
       "{('A', 1): ('1a', 1),\n",
       " ('A', 2): ('2a', 30),\n",
       " ('A', 3): ('3b', 1),\n",
       " ('B', 1): ('2a', 13),\n",
       " ('B', 2): ('3a', 4),\n",
       " ('B', 3): ('4b', 1)}"
      ]
     },
     "metadata": {},
     "output_type": "display_data"
    },
    {
     "name": "stdout",
     "output_type": "stream",
     "text": [
      "1\n"
     ]
    }
   ],
   "source": [
    "series_id = 1\n",
    "volume_starting_id = 1\n",
    "\n",
    "volume_id = volume_starting_id-1\n",
    "\n",
    "for puzzle_choice in puzzle_choices:\n",
    "\n",
    "    # Construct puzzle name and file name\n",
    "    volume_id += 1\n",
    "    puzzle_name = f\"{series_id}-{volume_id}\"\n",
    "    filename = \"puzzle-\" + puzzle_name\n",
    "\n",
    "    # Print what's happening..\n",
    "    print(f\"Creating puzzle {puzzle_name}..\")\n",
    "    print(\"- using this choice:\")\n",
    "    display(puzzle_choice)\n",
    "    \n",
    "    # Load puzzles\n",
    "    instance_dict = {}\n",
    "    for player in [\"A\", \"B\"]:\n",
    "        for puzzle_no in [1, 2, 3]:\n",
    "            category, puzzle_id = puzzle_choice[(player, puzzle_no)]\n",
    "            instance_dict[(player, puzzle_no)] = select_puzzle(category, puzzle_id)\n",
    "    \n",
    "    # Construct meta info\n",
    "    deco_list = [\n",
    "        {\n",
    "            \"input color\": \"red\",\n",
    "            \"input pattern\": \"north west\",\n",
    "            \"output color\": \"blue\",\n",
    "            \"output pattern\": \"horizontal\",\n",
    "        },\n",
    "        {\n",
    "            \"input color\": \"blue\",\n",
    "            \"input pattern\": \"horizontal\",\n",
    "            \"output color\": \"red\",\n",
    "            \"output pattern\": \"north west\",\n",
    "        },\n",
    "    ]\n",
    "    deco_index = random.randint(0, 1) # random choice of coloring for input-output\n",
    "    print(deco_index)\n",
    "    meta_info = {\n",
    "        \"level\": {\n",
    "            (player, puzzle_no): int(puzzle_choice[(player, puzzle_no)][0][0])\n",
    "            for player in [\"A\", \"B\"]\n",
    "            for puzzle_no in [1, 2, 3]\n",
    "        },\n",
    "        \"deco\": {\n",
    "            \"A\": deco_list[deco_index],\n",
    "            \"B\": deco_list[1-deco_index],\n",
    "        },\n",
    "        \"subtitle\": \"(Pick one to solve)\",\n",
    "    }\n",
    "\n",
    "    # Randomly construct a value permutation\n",
    "    # that we will use for all instances\n",
    "    value_list = list(range(1,10))\n",
    "    random.shuffle(value_list)\n",
    "\n",
    "    # Rearrange the instances appropriately\n",
    "    arranged_instance_dict = {}\n",
    "\n",
    "    for player in [\"A\", \"B\"]:\n",
    "        for puzzle_no in [1, 2, 3]:\n",
    "\n",
    "            instance = deepcopy(instance_dict[(player, puzzle_no)])\n",
    "\n",
    "            # For player B, swap the input and output solutions and decoy values\n",
    "            if player == \"B\":\n",
    "                instance.swap_values(1, 2)\n",
    "                instance.swap_values(3, 4)\n",
    "\n",
    "            # Apply the value permutation\n",
    "            instance.apply_value_permutation(value_list)\n",
    "\n",
    "            # Shuffle the orientation of the puzzle\n",
    "            instance.shuffle_orientation()\n",
    "\n",
    "            arranged_instance_dict[(player, puzzle_no)] = instance\n",
    "\n",
    "    # Make the actual PDF using LaTeX\n",
    "    make_pdf(\n",
    "        filename=filename,\n",
    "        directory=\"output\",\n",
    "        instance_dict=arranged_instance_dict,\n",
    "        meta_info=meta_info,\n",
    "        puzzle_set_id=puzzle_name,\n",
    "        two_page=True,\n",
    "    )\n",
    "    make_pdf(\n",
    "        filename=filename+\"-single\",\n",
    "        directory=\"output\",\n",
    "        instance_dict=arranged_instance_dict,\n",
    "        meta_info=meta_info,\n",
    "        puzzle_set_id=puzzle_name,\n",
    "        two_page=False,\n",
    "    )\n",
    "\n",
    "    # Log what puzzles we used in the construction, and what value permutation\n",
    "    logstr = datetime.now().strftime(\"=== %d-%m-%Y %H:%M:%S ===\\n\")\n",
    "    logstr += f\"- Created {filename}.pdf\\n\"\n",
    "    logstr += f\"- Puzzle set id: {puzzle_name}\\n\"\n",
    "    for player in [\"A\", \"B\"]:\n",
    "        for puzzle_no in [1, 2, 3]:\n",
    "            category, puzzle_id = puzzle_choice[(player, puzzle_no)]\n",
    "            logstr += f\"- Puzzle #{puzzle_no} for {player}: {category}, {puzzle_id}\\n\"\n",
    "    logstr += f\"- Value permutation used: {value_list}\\n\"\n",
    "    log(logstr)"
   ]
  },
  {
   "cell_type": "code",
   "execution_count": null,
   "id": "e8056dc0",
   "metadata": {},
   "outputs": [],
   "source": []
  }
 ],
 "metadata": {
  "kernelspec": {
   "display_name": "Python 3 (ipykernel)",
   "language": "python",
   "name": "python3"
  },
  "language_info": {
   "codemirror_mode": {
    "name": "ipython",
    "version": 3
   },
   "file_extension": ".py",
   "mimetype": "text/x-python",
   "name": "python",
   "nbconvert_exporter": "python",
   "pygments_lexer": "ipython3",
   "version": "3.9.12"
  }
 },
 "nbformat": 4,
 "nbformat_minor": 5
}
