{
 "cells": [
  {
   "cell_type": "markdown",
   "id": "d4998f1e",
   "metadata": {},
   "source": [
    "## asdf"
   ]
  },
  {
   "cell_type": "code",
   "execution_count": 1,
   "id": "aad59cc0",
   "metadata": {},
   "outputs": [],
   "source": [
    "from two_player_sudoku import make_pdf, construct_basic_interface_sudoku_from_dict"
   ]
  },
  {
   "cell_type": "code",
   "execution_count": 2,
   "id": "d0a6b4a0",
   "metadata": {},
   "outputs": [],
   "source": [
    "from sudokugen import instances, generate_puzzle, encodings, masks"
   ]
  },
  {
   "cell_type": "code",
   "execution_count": 3,
   "id": "6ebaa896",
   "metadata": {},
   "outputs": [],
   "source": [
    "instance1 = construct_basic_interface_sudoku_from_dict(\n",
    "    {\n",
    "        \"puzzle\": \"900000300806700005003008107000600000000047006000002050002150000005000901017080040\",\n",
    "        \"input_cell\": (6, 2),\n",
    "        \"input_cell_solution\": 1,\n",
    "        \"input_decoy_value\": 3,\n",
    "        \"output_cell\": (7, 5),\n",
    "        \"output_cell_solution\": 2,\n",
    "        \"output_decoy_value\": 4,\n",
    "    }\n",
    ")"
   ]
  },
  {
   "cell_type": "code",
   "execution_count": 4,
   "id": "1a83d098",
   "metadata": {},
   "outputs": [],
   "source": [
    "instance_dict = {}\n",
    "instance_dict[(\"A\", 1)] = instance1\n",
    "instance_dict[(\"A\", 2)] = instance1\n",
    "instance_dict[(\"A\", 3)] = instance1\n",
    "instance_dict[(\"B\", 1)] = instance1\n",
    "instance_dict[(\"B\", 2)] = instance1\n",
    "instance_dict[(\"B\", 3)] = instance1"
   ]
  },
  {
   "cell_type": "code",
   "execution_count": 5,
   "id": "a1b964c4",
   "metadata": {},
   "outputs": [],
   "source": [
    "make_pdf(\n",
    "    filename=\"test1\",\n",
    "    directory=\"output\",\n",
    "    instance_dict=instance_dict,\n",
    "    puzzle_id=\"1a-1337\",\n",
    ")"
   ]
  },
  {
   "cell_type": "code",
   "execution_count": null,
   "id": "9a9510db",
   "metadata": {},
   "outputs": [],
   "source": []
  }
 ],
 "metadata": {
  "kernelspec": {
   "display_name": "Python 3 (ipykernel)",
   "language": "python",
   "name": "python3"
  },
  "language_info": {
   "codemirror_mode": {
    "name": "ipython",
    "version": 3
   },
   "file_extension": ".py",
   "mimetype": "text/x-python",
   "name": "python",
   "nbconvert_exporter": "python",
   "pygments_lexer": "ipython3",
   "version": "3.7.7"
  }
 },
 "nbformat": 4,
 "nbformat_minor": 5
}
