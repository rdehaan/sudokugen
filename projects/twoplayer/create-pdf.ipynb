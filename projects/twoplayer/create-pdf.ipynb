{
 "cells": [
  {
   "cell_type": "markdown",
   "id": "d4998f1e",
   "metadata": {},
   "source": [
    "## asdf"
   ]
  },
  {
   "cell_type": "code",
   "execution_count": 1,
   "id": "aad59cc0",
   "metadata": {},
   "outputs": [],
   "source": [
    "from twoplayer import make_pdf, construct_instance_from_dict, \\\n",
    "    store_instance_in_db, load_db, select_instance_dict_from_db, log"
   ]
  },
  {
   "cell_type": "code",
   "execution_count": 2,
   "id": "d0a6b4a0",
   "metadata": {},
   "outputs": [],
   "source": [
    "from sudokugen import instances, generate_puzzle, encodings, masks"
   ]
  },
  {
   "cell_type": "code",
   "execution_count": 3,
   "id": "a7e67831",
   "metadata": {},
   "outputs": [],
   "source": [
    "from copy import deepcopy\n",
    "import json\n",
    "import random\n",
    "import textwrap\n",
    "from datetime import datetime"
   ]
  },
  {
   "cell_type": "code",
   "execution_count": 4,
   "id": "1a83d098",
   "metadata": {},
   "outputs": [],
   "source": [
    "database = load_db(\"building-blocks-i.json\")\n",
    "\n",
    "def select_puzzle(category, puzzle_id):\n",
    "    return construct_instance_from_dict(\n",
    "        select_instance_dict_from_db(\n",
    "            database,\n",
    "            category,\n",
    "            puzzle_id\n",
    "        )\n",
    "    )\n",
    "\n",
    "puzzle_choice = {\n",
    "    (\"A\", 1): (\"1a\", 1),\n",
    "    (\"A\", 2): (\"2a\", 1),\n",
    "    (\"A\", 3): (\"3a\", 1),\n",
    "    (\"B\", 1): (\"2a\", 4),\n",
    "    (\"B\", 2): (\"3a\", 3),\n",
    "    (\"B\", 3): (\"4a\", 1),\n",
    "}\n",
    "\n",
    "instance_dict = {}\n",
    "for player in [\"A\", \"B\"]:\n",
    "    for puzzle_no in [1, 2, 3]:\n",
    "        category, puzzle_id = puzzle_choice[(player, puzzle_no)]\n",
    "        instance_dict[(player, puzzle_no)] = select_puzzle(category, puzzle_id)\n",
    "\n",
    "meta_info = {\n",
    "    \"level\": {\n",
    "        (player, puzzle_no): int(puzzle_choice[(player, puzzle_no)][0][0])\n",
    "        for player in [\"A\", \"B\"]\n",
    "        for puzzle_no in [1, 2, 3]\n",
    "    },\n",
    "    \"deco\": {\n",
    "        \"A\": {\n",
    "            \"input color\": \"red\",\n",
    "            \"input pattern\": \"north west\",\n",
    "            \"output color\": \"blue\",\n",
    "            \"output pattern\": \"horizontal\",\n",
    "        },\n",
    "        \"B\": {\n",
    "            \"input color\": \"blue\",\n",
    "            \"input pattern\": \"horizontal\",\n",
    "            \"output color\": \"red\",\n",
    "            \"output pattern\": \"north west\",\n",
    "        },\n",
    "    },\n",
    "}"
   ]
  },
  {
   "cell_type": "code",
   "execution_count": 5,
   "id": "44f168c9",
   "metadata": {},
   "outputs": [],
   "source": [
    "arranged_instance_dict = {}\n",
    "\n",
    "# Randomly construct a value permutation\n",
    "# that we will use for all instances\n",
    "value_list = list(range(1,10))\n",
    "random.shuffle(value_list)\n",
    "\n",
    "for player in [\"A\", \"B\"]:\n",
    "    for puzzle_no in [1, 2, 3]:\n",
    "        \n",
    "        instance = deepcopy(instance_dict[(player, puzzle_no)])\n",
    "            \n",
    "        # For player B, swap the input and output solutions and decoy values\n",
    "        if player == \"B\":\n",
    "            instance.swap_values(1, 2)\n",
    "            instance.swap_values(3, 4)\n",
    "\n",
    "        # Apply the value permutation\n",
    "        instance.apply_value_permutation(value_list)\n",
    "\n",
    "        # Shuffle the orientation of the puzzle\n",
    "        instance.shuffle_orientation()\n",
    "        \n",
    "        arranged_instance_dict[(player, puzzle_no)] = instance"
   ]
  },
  {
   "cell_type": "code",
   "execution_count": 6,
   "id": "a1b964c4",
   "metadata": {},
   "outputs": [],
   "source": [
    "filename=\"puzzle-0-1\"\n",
    "puzzle_set_id=\"0-1\"\n",
    "\n",
    "make_pdf(\n",
    "    filename=filename,\n",
    "    directory=\"output\",\n",
    "    instance_dict=arranged_instance_dict,\n",
    "    meta_info=meta_info,\n",
    "    puzzle_set_id=puzzle_set_id,\n",
    ")\n",
    "\n",
    "# Logging\n",
    "logstr = datetime.now().strftime(\"=== %d-%m-%Y %H:%M:%S ===\\n\")\n",
    "logstr += f\"- Created {filename}.pdf\\n\"\n",
    "logstr += f\"- Puzzle set id: {puzzle_id}\\n\"\n",
    "for player in [\"A\", \"B\"]:\n",
    "    for puzzle_no in [1, 2, 3]:\n",
    "        category, puzzle_id = puzzle_choice[(player, puzzle_no)]\n",
    "        logstr += f\"- Puzzle #{puzzle_no} for {player}: {category}, {puzzle_id}\\n\"\n",
    "\n",
    "logstr += f\"- Value permutation used: {value_list}\\n\"\n",
    "\n",
    "log(logstr)"
   ]
  },
  {
   "cell_type": "code",
   "execution_count": null,
   "id": "e8056dc0",
   "metadata": {},
   "outputs": [],
   "source": []
  }
 ],
 "metadata": {
  "kernelspec": {
   "display_name": "Python 3 (ipykernel)",
   "language": "python",
   "name": "python3"
  },
  "language_info": {
   "codemirror_mode": {
    "name": "ipython",
    "version": 3
   },
   "file_extension": ".py",
   "mimetype": "text/x-python",
   "name": "python",
   "nbconvert_exporter": "python",
   "pygments_lexer": "ipython3",
   "version": "3.7.7"
  }
 },
 "nbformat": 4,
 "nbformat_minor": 5
}
